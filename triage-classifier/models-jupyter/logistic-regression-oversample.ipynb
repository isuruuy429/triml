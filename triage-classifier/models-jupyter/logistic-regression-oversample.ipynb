{
 "cells": [
  {
   "cell_type": "code",
   "id": "initial_id",
   "metadata": {
    "collapsed": true,
    "ExecuteTime": {
     "end_time": "2024-12-15T16:50:31.680739Z",
     "start_time": "2024-12-15T16:50:31.651474Z"
    }
   },
   "source": [
    "import pandas as pd\n",
    "import matplotlib.pyplot as plt\n",
    "import numpy as np\n",
    "import string\n",
    "import nltk\n",
    "from nltk.corpus import stopwords\n",
    "from nltk.tokenize import word_tokenize\n",
    "from nltk.stem import WordNetLemmatizer\n",
    "from gensim.models import Word2Vec\n",
    "from sklearn.model_selection import train_test_split\n",
    "from sklearn.preprocessing import StandardScaler, RobustScaler\n",
    "from sklearn.linear_model import LogisticRegression\n",
    "from sklearn.metrics import classification_report, accuracy_score, confusion_matrix\n",
    "import pickle\n",
    "import seaborn as sns\n",
    "from sklearn.utils import resample"
   ],
   "outputs": [],
   "execution_count": 23
  },
  {
   "metadata": {
    "ExecuteTime": {
     "end_time": "2024-12-15T16:50:33.755475Z",
     "start_time": "2024-12-15T16:50:33.742052Z"
    }
   },
   "cell_type": "code",
   "source": [
    "# Download necessary NLTK data\n",
    "nltk.download('stopwords')\n",
    "nltk.download('punkt')\n",
    "nltk.download('wordnet')"
   ],
   "id": "82ded8a8f05ae092",
   "outputs": [
    {
     "name": "stderr",
     "output_type": "stream",
     "text": [
      "[nltk_data] Downloading package stopwords to\n",
      "[nltk_data]     /Users/isuruuy/nltk_data...\n",
      "[nltk_data]   Package stopwords is already up-to-date!\n",
      "[nltk_data] Downloading package punkt to /Users/isuruuy/nltk_data...\n",
      "[nltk_data]   Package punkt is already up-to-date!\n",
      "[nltk_data] Downloading package wordnet to /Users/isuruuy/nltk_data...\n",
      "[nltk_data]   Package wordnet is already up-to-date!\n"
     ]
    },
    {
     "data": {
      "text/plain": [
       "True"
      ]
     },
     "execution_count": 24,
     "metadata": {},
     "output_type": "execute_result"
    }
   ],
   "execution_count": 24
  },
  {
   "metadata": {
    "ExecuteTime": {
     "end_time": "2024-12-15T16:50:39.236647Z",
     "start_time": "2024-12-15T16:50:36.232774Z"
    }
   },
   "cell_type": "code",
   "source": [
    "# Path to the file\n",
    "file_path = '../data/ED-triage-obs-final.xlsx'  # Update with your local file path\n",
    "df = pd.read_excel(file_path)"
   ],
   "id": "8b9acb4895e2df15",
   "outputs": [],
   "execution_count": 25
  },
  {
   "metadata": {
    "ExecuteTime": {
     "end_time": "2024-12-15T16:50:41.012967Z",
     "start_time": "2024-12-15T16:50:40.990247Z"
    }
   },
   "cell_type": "code",
   "source": [
    "df = df[df['Triage'].isin([4, 5])].drop_duplicates()\n",
    "df.shape"
   ],
   "id": "d600e4b6d455de0f",
   "outputs": [
    {
     "data": {
      "text/plain": [
       "(13924, 14)"
      ]
     },
     "execution_count": 26,
     "metadata": {},
     "output_type": "execute_result"
    }
   ],
   "execution_count": 26
  },
  {
   "metadata": {
    "ExecuteTime": {
     "end_time": "2024-12-15T16:50:43.065979Z",
     "start_time": "2024-12-15T16:50:43.057849Z"
    }
   },
   "cell_type": "code",
   "source": [
    "# Initialize NLTK resources\n",
    "stop_words = set(stopwords.words('english')) - {\"no\", \"not\", \"wasn't\", \"was not\", \"isn't\", \"is not\"}\n",
    "lemmatizer = WordNetLemmatizer()\n",
    "\n",
    "# Preprocessing function\n",
    "def preprocess_text(text):\n",
    "    if pd.isna(text):\n",
    "        return \"\"\n",
    "    text = text.lower()  # Lowercasing\n",
    "    text = text.translate(str.maketrans('', '', string.punctuation))  # Remove punctuation\n",
    "    words = word_tokenize(text)  # Tokenization\n",
    "    words = [word for word in words if word not in stop_words]  # Remove stopwords\n",
    "    words = [lemmatizer.lemmatize(word) for word in words]  # Lemmatization\n",
    "    return ' '.join(words)\n",
    "\n",
    "# Drop unnecessary columns\n",
    "df = df.drop(columns=[\"Blood Glucose, Capillary\", \"Departed\", \"Arrived\", \"Diastolic Blood Pressure\", \"Departure Status\", \"Respiratory Rate\", \"Temperature Tympanic\"])\n",
    "\n",
    "# Drop rows with missing 'Triage', 'Chief Complaint', 'Visit Reason', and any of the vital signs\n",
    "df.dropna(subset=['Triage', 'Chief Complaint', 'Visit Reason', 'SpO2', 'Peripheral Pulse Rate', 'Systolic Blood Pressure'], inplace=True)\n"
   ],
   "id": "b7f3c7278075e2e1",
   "outputs": [],
   "execution_count": 27
  },
  {
   "metadata": {
    "ExecuteTime": {
     "end_time": "2024-12-15T16:50:45.783357Z",
     "start_time": "2024-12-15T16:50:45.178612Z"
    }
   },
   "cell_type": "code",
   "source": [
    "# Preprocess Visit Reason and Chief Complaint\n",
    "df['Visit Reason'] = df['Visit Reason'].apply(preprocess_text)\n",
    "df['Chief Complaint'] = df['Chief Complaint'].apply(preprocess_text)\n",
    "\n",
    "# Combine Visit Reason and Chief Complaint\n",
    "df['combined_text'] = df['Visit Reason'] + ' ' + df['Chief Complaint']\n",
    "\n",
    "# Preprocess the combined_text column\n",
    "sentences = df['combined_text'].apply(lambda x: x.split())"
   ],
   "id": "6fa3b01ecdc669cd",
   "outputs": [],
   "execution_count": 28
  },
  {
   "metadata": {
    "ExecuteTime": {
     "end_time": "2024-12-15T16:50:50.972416Z",
     "start_time": "2024-12-15T16:50:50.531786Z"
    }
   },
   "cell_type": "code",
   "source": [
    "# Step 2: Train Word2Vec model on the combined_text column\n",
    "word2vec_model = Word2Vec(sentences, vector_size=100, window=5, min_count=1, workers=4, seed=42)\n",
    "\n",
    "word2vec_model_path = \"../models/logistic-regression/spe/word2vec.model\"\n",
    "word2vec_model.save(word2vec_model_path)\n",
    "print(f\"Word2Vec model saved at {word2vec_model_path}\")\n",
    "\n",
    "# Convert combined_text to a vector by averaging word embeddings\n",
    "def get_sentence_embedding(sentence, model):\n",
    "    words = sentence.split()\n",
    "    word_vecs = [model.wv[word] for word in words if word in model.wv]\n",
    "    if len(word_vecs) == 0:\n",
    "        return np.zeros(model.vector_size)\n",
    "    return np.mean(word_vecs, axis=0)\n",
    "\n",
    "df['text_embedding'] = df['combined_text'].apply(lambda x: get_sentence_embedding(x, word2vec_model))"
   ],
   "id": "692420469e33ce1b",
   "outputs": [
    {
     "name": "stdout",
     "output_type": "stream",
     "text": [
      "Word2Vec model saved at ../models/logistic-regression/spe/word2vec.model\n"
     ]
    }
   ],
   "execution_count": 29
  },
  {
   "metadata": {
    "ExecuteTime": {
     "end_time": "2024-12-15T16:50:56.650459Z",
     "start_time": "2024-12-15T16:50:56.642795Z"
    }
   },
   "cell_type": "code",
   "source": [
    "# Extract the vital signs\n",
    "vital_signs = df[['SpO2', 'Peripheral Pulse Rate', 'Systolic Blood Pressure']].values\n",
    "\n",
    "# Step 2: Apply RobustScaler to the vital signs data\n",
    "scaler_vitals = RobustScaler()\n",
    "vital_signs_scaled = scaler_vitals.fit_transform(vital_signs)"
   ],
   "id": "7cdc21117cafebf1",
   "outputs": [],
   "execution_count": 30
  },
  {
   "metadata": {
    "ExecuteTime": {
     "end_time": "2024-12-15T16:51:03.990004Z",
     "start_time": "2024-12-15T16:51:03.974946Z"
    }
   },
   "cell_type": "code",
   "source": [
    "# Step 4: Scale the text embeddings and vital signs separately\n",
    "scaler_embeddings = StandardScaler()\n",
    "text_embeddings_scaled = scaler_embeddings.fit_transform(np.vstack(df['text_embedding']))\n",
    "\n",
    "# Save the scalers\n",
    "scaler_embeddings_path = \"../models/logistic-regression/spe/scaler-embeddings.pkl\"\n",
    "with open(scaler_embeddings_path, \"wb\") as f:\n",
    "    pickle.dump(scaler_embeddings, f)\n",
    "print(f\"Scaler for embeddings saved at {scaler_embeddings_path}\")\n",
    "\n",
    "scaler_vitals_path = \"../models/logistic-regression/spe/scaler-vitals.pkl\"\n",
    "with open(scaler_vitals_path, \"wb\") as f:\n",
    "    pickle.dump(scaler_vitals, f)\n",
    "print(f\"Scaler for vitals saved at {scaler_vitals_path}\")\n",
    "\n",
    "# Combine the scaled text embeddings and scaled vital signs\n",
    "X = np.hstack((text_embeddings_scaled, vital_signs_scaled))"
   ],
   "id": "29effb1608d54c1d",
   "outputs": [
    {
     "name": "stdout",
     "output_type": "stream",
     "text": [
      "Scaler for embeddings saved at ../models/logistic-regression/spe/scaler-embeddings.pkl\n",
      "Scaler for vitals saved at ../models/logistic-regression/spe/scaler-vitals.pkl\n"
     ]
    }
   ],
   "execution_count": 31
  },
  {
   "metadata": {
    "ExecuteTime": {
     "end_time": "2024-12-15T16:51:07.375650Z",
     "start_time": "2024-12-15T16:51:07.372456Z"
    }
   },
   "cell_type": "code",
   "source": "y = df['Triage']",
   "id": "ffd79c553ac22f19",
   "outputs": [],
   "execution_count": 32
  },
  {
   "metadata": {
    "ExecuteTime": {
     "end_time": "2024-12-15T16:51:09.392849Z",
     "start_time": "2024-12-15T16:51:09.385062Z"
    }
   },
   "cell_type": "code",
   "source": [
    "# Split the data into training and testing sets\n",
    "X_train, X_test, y_train, y_test = train_test_split(X, y, test_size=0.2, random_state=42)"
   ],
   "id": "abe14d70255a09d3",
   "outputs": [],
   "execution_count": 33
  },
  {
   "metadata": {
    "ExecuteTime": {
     "end_time": "2024-12-15T16:51:11.660593Z",
     "start_time": "2024-12-15T16:51:11.587812Z"
    }
   },
   "cell_type": "code",
   "source": [
    "sns.countplot(x=y_train, palette='pastel')\n",
    "plt.title('Class Distribution Before Resampling (Training Set)')\n",
    "plt.xlabel('Triage Level')\n",
    "plt.ylabel('Number of Instances')\n",
    "plt.show()"
   ],
   "id": "1a4b00f7f341ab82",
   "outputs": [
    {
     "name": "stderr",
     "output_type": "stream",
     "text": [
      "/var/folders/w3/xg76b7154812409chqhw5_5w0000gn/T/ipykernel_84739/3099617725.py:1: FutureWarning: \n",
      "\n",
      "Passing `palette` without assigning `hue` is deprecated and will be removed in v0.14.0. Assign the `x` variable to `hue` and set `legend=False` for the same effect.\n",
      "\n",
      "  sns.countplot(x=y_train, palette='pastel')\n"
     ]
    },
    {
     "data": {
      "text/plain": [
       "<Figure size 640x480 with 1 Axes>"
      ],
      "image/png": "[encoded data removed]"
     },
     "metadata": {},
     "output_type": "display_data"
    }
   ],
   "execution_count": 34
  },
  {
   "metadata": {
    "ExecuteTime": {
     "end_time": "2024-12-15T16:51:16.643088Z",
     "start_time": "2024-12-15T16:51:16.567477Z"
    }
   },
   "cell_type": "code",
   "source": [
    "# Combine X_train and y_train into a single DataFrame for resampling\n",
    "train_df = pd.DataFrame(X_train)\n",
    "train_df['Triage'] = y_train.values\n",
    "\n",
    "# Separate majority and minority classes in the training set\n",
    "majority = train_df[train_df['Triage'] == 4]\n",
    "minority = train_df[train_df['Triage'] == 5]\n",
    "\n",
    "# Oversample the minority class by duplication\n",
    "minority_oversampled = resample(minority, \n",
    "                                replace=True, \n",
    "                                n_samples=len(majority), \n",
    "                                random_state=42)\n",
    "\n",
    "# Combine oversampled minority with the majority class\n",
    "balanced_train_df = pd.concat([majority, minority_oversampled])\n",
    "\n",
    "# Separate features and labels in the balanced training set\n",
    "X_train_resampled = balanced_train_df.drop(columns=['Triage']).values\n",
    "y_train_resampled = balanced_train_df['Triage'].values\n",
    "\n",
    "sns.countplot(x=y_train_resampled, palette='pastel')\n",
    "plt.title('Class Distribution After Resampling (Training Set)')\n",
    "plt.xlabel('Triage Level')\n",
    "plt.ylabel('Number of Instances')\n",
    "plt.show()"
   ],
   "id": "4f2e704ccbf5515c",
   "outputs": [
    {
     "name": "stderr",
     "output_type": "stream",
     "text": [
      "/var/folders/w3/xg76b7154812409chqhw5_5w0000gn/T/ipykernel_84739/3921553592.py:22: FutureWarning: \n",
      "\n",
      "Passing `palette` without assigning `hue` is deprecated and will be removed in v0.14.0. Assign the `x` variable to `hue` and set `legend=False` for the same effect.\n",
      "\n",
      "  sns.countplot(x=y_train_resampled, palette='pastel')\n"
     ]
    },
    {
     "data": {
      "text/plain": [
       "<Figure size 640x480 with 1 Axes>"
      ],
      "image/png": "[encoded data removed]"
     },
     "metadata": {},
     "output_type": "display_data"
    }
   ],
   "execution_count": 35
  },
  {
   "metadata": {
    "ExecuteTime": {
     "end_time": "2024-12-15T16:51:25.950532Z",
     "start_time": "2024-12-15T16:51:24.892928Z"
    }
   },
   "cell_type": "code",
   "source": [
    "# Train a Logistic Regression model\n",
    "model = LogisticRegression(max_iter=1000, random_state=42)\n",
    "model.fit(X_train_resampled, y_train_resampled)\n",
    "\n",
    "# Save the Logistic Regression model\n",
    "model_path = \"../models/logistic-regression/spe/logistic_regression_model.pkl\"\n",
    "with open(model_path, \"wb\") as f:\n",
    "    pickle.dump(model, f)\n",
    "print(f\"Logistic Regression model saved at {model_path}\")\n",
    "\n",
    "# Make predictions on the test set\n",
    "y_pred = model.predict(X_test)"
   ],
   "id": "8353781c3ddc97ea",
   "outputs": [
    {
     "name": "stdout",
     "output_type": "stream",
     "text": [
      "Logistic Regression model saved at ../models/logistic-regression/spe/logistic_regression_model.pkl\n"
     ]
    }
   ],
   "execution_count": 36
  },
  {
   "metadata": {
    "ExecuteTime": {
     "end_time": "2024-12-15T16:51:28.099973Z",
     "start_time": "2024-12-15T16:51:28.089881Z"
    }
   },
   "cell_type": "code",
   "source": [
    "# Evaluate the model\n",
    "accuracy = accuracy_score(y_test, y_pred)\n",
    "print(f\"Accuracy: {accuracy}\")\n",
    "print(\"Classification Report:\")\n",
    "print(classification_report(y_test, y_pred))"
   ],
   "id": "1290a927a479065f",
   "outputs": [
    {
     "name": "stdout",
     "output_type": "stream",
     "text": [
      "Accuracy: 0.7064297800338409\n",
      "Classification Report:\n",
      "              precision    recall  f1-score   support\n",
      "\n",
      "         4.0       0.98      0.71      0.82      1136\n",
      "         5.0       0.09      0.72      0.16        46\n",
      "\n",
      "    accuracy                           0.71      1182\n",
      "   macro avg       0.54      0.71      0.49      1182\n",
      "weighted avg       0.95      0.71      0.80      1182\n",
      "\n"
     ]
    }
   ],
   "execution_count": 37
  },
  {
   "metadata": {
    "ExecuteTime": {
     "end_time": "2024-12-15T16:51:37.778971Z",
     "start_time": "2024-12-15T16:51:37.703831Z"
    }
   },
   "cell_type": "code",
   "source": [
    "conf_matrix = confusion_matrix(y_test, y_pred)\n",
    "plt.figure(figsize=(8, 6))\n",
    "sns.heatmap(conf_matrix, annot=True, fmt='g', cmap='Blues', xticklabels=sorted(y_test.unique()), yticklabels=sorted(y_test.unique()))\n",
    "plt.title('Confusion Matrix')\n",
    "plt.xlabel('Predicted Label')\n",
    "plt.ylabel('True Label')\n",
    "plt.show()"
   ],
   "id": "c3dc8e8d560ab5e0",
   "outputs": [
    {
     "data": {
      "text/plain": [
       "<Figure size 800x600 with 2 Axes>"
      ],
      "image/png": "[encoded data removed]"
     },
     "metadata": {},
     "output_type": "display_data"
    }
   ],
   "execution_count": 38
  },
  {
   "metadata": {
    "ExecuteTime": {
     "end_time": "2024-12-15T16:51:43.428814Z",
     "start_time": "2024-12-15T16:51:43.420328Z"
    }
   },
   "cell_type": "code",
   "source": [
    "# Assuming y_test are the true labels and y_pred are the predicted labels\n",
    "report = classification_report(y_test, y_pred, output_dict=True)\n",
    "\n",
    "# Extract macro-averaged F1-Score and Recall\n",
    "macro_f1_score = report['macro avg']['f1-score']\n",
    "macro_recall = report['macro avg']['recall']\n",
    "\n",
    "print(f\"Macro-Averaged F1-Score: {macro_f1_score}\")\n",
    "print(f\"Macro-Averaged Recall: {macro_recall}\")"
   ],
   "id": "ea62516108d85d4d",
   "outputs": [
    {
     "name": "stdout",
     "output_type": "stream",
     "text": [
      "Macro-Averaged F1-Score: 0.49097439321487835\n",
      "Macro-Averaged Recall: 0.7116886099203918\n"
     ]
    }
   ],
   "execution_count": 39
  }
 ],
 "metadata": {
  "kernelspec": {
   "display_name": "Python 3",
   "language": "python",
   "name": "python3"
  },
  "language_info": {
   "codemirror_mode": {
    "name": "ipython",
    "version": 2
   },
   "file_extension": ".py",
   "mimetype": "text/x-python",
   "name": "python",
   "nbconvert_exporter": "python",
   "pygments_lexer": "ipython2",
   "version": "2.7.6"
  }
 },
 "nbformat": 4,
 "nbformat_minor": 5
}
